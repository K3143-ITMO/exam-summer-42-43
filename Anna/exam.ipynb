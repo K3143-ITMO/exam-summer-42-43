{
  "nbformat": 4,
  "nbformat_minor": 5,
  "metadata": {
    "kernelspec": {
      "display_name": "'Python Interactive'",
      "language": "python",
      "name": "0f76b137-6db6-473c-ac2a-022c61fac5f5"
    },
    "language_info": {
      "codemirror_mode": {
        "name": "ipython",
        "version": 3
      },
      "file_extension": ".py",
      "mimetype": "text/x-python",
      "name": "python",
      "nbconvert_exporter": "python",
      "pygments_lexer": "ipython3",
      "version": "3.7.3"
    },
    "colab": {
      "name": "Копия блокнота \"Movies.ipynb\"",
      "provenance": [],
      "collapsed_sections": []
    }
  },
  "cells": [
    {
      "cell_type": "code",
      "metadata": {
        "colab": {
          "base_uri": "https://localhost:8080/"
        },
        "id": "9Zf8ESMkSvlS",
        "outputId": "286446b4-0192-4fcb-f012-20640bb3ac50"
      },
      "source": [
        "import pandas as pd\n",
        "import matplotlib.pyplot as plt\n",
        "import numpy as np\n",
        "import seaborn as sns\n",
        "df = pd.read_csv(\"tmdb-movies.csv\")\n",
        "df.head()\n",
        "df.columns\n"
      ],
      "id": "9Zf8ESMkSvlS",
      "execution_count": 9,
      "outputs": [
        {
          "output_type": "execute_result",
          "data": {
            "text/plain": [
              "Index(['id', 'imdb_id', 'popularity', 'budget', 'revenue', 'original_title',\n",
              "       'cast', 'homepage', 'director', 'tagline', 'keywords', 'overview',\n",
              "       'runtime', 'genres', 'production_companies', 'release_date',\n",
              "       'vote_count', 'vote_average', 'release_year', 'budget_adj',\n",
              "       'revenue_adj'],\n",
              "      dtype='object')"
            ]
          },
          "metadata": {
            "tags": []
          },
          "execution_count": 9
        }
      ]
    },
    {
      "cell_type": "code",
      "metadata": {
        "id": "architectural-petroleum"
      },
      "source": [
        "# 0. Найдите вашего любимого актера, режиссера, фильм и жанр.\n",
        "# Том Кукуруз - Tom Cruise, Кристофер Нолан - Christopher Nolan,\n",
        "# Парк Юрского Периода - Jurrasic Park, комедии - Comedy\n",
        "# В вопросах у которых стоит значок ❤︎ нужно дополнительно использовать вашего любимого актера, фильм и т.п."
      ],
      "id": "architectural-petroleum",
      "execution_count": null,
      "outputs": []
    },
    {
      "cell_type": "code",
      "metadata": {
        "id": "LmUkvQZCOXGe"
      },
      "source": [
        "# ❤︎ Фильм - Requiem for a Dream\n",
        "# ❤︎ Актер - Ryan Gosling\n",
        "# ❤︎ Режиссер - Steven Spielberg\n",
        "# ❤︎ Жанр - Comedy"
      ],
      "id": "LmUkvQZCOXGe",
      "execution_count": null,
      "outputs": []
    },
    {
      "cell_type": "code",
      "metadata": {
        "id": "2tzjeUmrTJ3L"
      },
      "source": [
        "fav_film = 'Requiem for a Dream'\n",
        "fav_actor = 'Ryan Gosling'\n",
        "fav_director = 'Steven Spielberg'\n",
        "fav_genre = 'Comedy'"
      ],
      "id": "2tzjeUmrTJ3L",
      "execution_count": 79,
      "outputs": []
    },
    {
      "cell_type": "code",
      "metadata": {
        "id": "angry-testament"
      },
      "source": [
        "# 1. Какой фильм имеет больше всего оценок? (❤︎)"
      ],
      "id": "angry-testament",
      "execution_count": null,
      "outputs": []
    },
    {
      "cell_type": "code",
      "metadata": {
        "colab": {
          "base_uri": "https://localhost:8080/",
          "height": 77
        },
        "id": "saPP89Z-TtN2",
        "outputId": "91b6ff46-5eb9-4d9f-de8a-8f16fd807f76"
      },
      "source": [
        "df[df['vote_count'] == df['vote_count'].max()][['original_title', 'vote_count']]"
      ],
      "id": "saPP89Z-TtN2",
      "execution_count": 26,
      "outputs": [
        {
          "output_type": "execute_result",
          "data": {
            "text/html": [
              "<div>\n",
              "<style scoped>\n",
              "    .dataframe tbody tr th:only-of-type {\n",
              "        vertical-align: middle;\n",
              "    }\n",
              "\n",
              "    .dataframe tbody tr th {\n",
              "        vertical-align: top;\n",
              "    }\n",
              "\n",
              "    .dataframe thead th {\n",
              "        text-align: right;\n",
              "    }\n",
              "</style>\n",
              "<table border=\"1\" class=\"dataframe\">\n",
              "  <thead>\n",
              "    <tr style=\"text-align: right;\">\n",
              "      <th></th>\n",
              "      <th>original_title</th>\n",
              "      <th>vote_count</th>\n",
              "    </tr>\n",
              "  </thead>\n",
              "  <tbody>\n",
              "    <tr>\n",
              "      <th>1919</th>\n",
              "      <td>Inception</td>\n",
              "      <td>9767</td>\n",
              "    </tr>\n",
              "  </tbody>\n",
              "</table>\n",
              "</div>"
            ],
            "text/plain": [
              "     original_title  vote_count\n",
              "1919      Inception        9767"
            ]
          },
          "metadata": {
            "tags": []
          },
          "execution_count": 26
        }
      ]
    },
    {
      "cell_type": "code",
      "metadata": {
        "colab": {
          "base_uri": "https://localhost:8080/",
          "height": 77
        },
        "id": "eqIXs_oTYmT2",
        "outputId": "bfad1c6d-b007-459f-d233-98f3a31ed02b"
      },
      "source": [
        "df[df['original_title'] == fav_film][['vote_count', 'original_title']]"
      ],
      "id": "eqIXs_oTYmT2",
      "execution_count": 25,
      "outputs": [
        {
          "output_type": "execute_result",
          "data": {
            "text/html": [
              "<div>\n",
              "<style scoped>\n",
              "    .dataframe tbody tr th:only-of-type {\n",
              "        vertical-align: middle;\n",
              "    }\n",
              "\n",
              "    .dataframe tbody tr th {\n",
              "        vertical-align: top;\n",
              "    }\n",
              "\n",
              "    .dataframe thead th {\n",
              "        text-align: right;\n",
              "    }\n",
              "</style>\n",
              "<table border=\"1\" class=\"dataframe\">\n",
              "  <thead>\n",
              "    <tr style=\"text-align: right;\">\n",
              "      <th></th>\n",
              "      <th>vote_count</th>\n",
              "      <th>original_title</th>\n",
              "    </tr>\n",
              "  </thead>\n",
              "  <tbody>\n",
              "    <tr>\n",
              "      <th>8689</th>\n",
              "      <td>1316</td>\n",
              "      <td>Requiem for a Dream</td>\n",
              "    </tr>\n",
              "  </tbody>\n",
              "</table>\n",
              "</div>"
            ],
            "text/plain": [
              "      vote_count       original_title\n",
              "8689        1316  Requiem for a Dream"
            ]
          },
          "metadata": {
            "tags": []
          },
          "execution_count": 25
        }
      ]
    },
    {
      "cell_type": "code",
      "metadata": {
        "id": "comparable-sword"
      },
      "source": [
        "# 2. Какой фильм, а также какого жанра и года выпуска, имеет самые высокие оценки? (❤︎)"
      ],
      "id": "comparable-sword",
      "execution_count": null,
      "outputs": []
    },
    {
      "cell_type": "code",
      "metadata": {
        "colab": {
          "base_uri": "https://localhost:8080/",
          "height": 77
        },
        "id": "ug2k1jAZU8nj",
        "outputId": "cbf95a92-f716-421a-9e9b-ce00d6e31f2e"
      },
      "source": [
        "df[df['vote_average'] == df['vote_average'].max()][['original_title', 'genres', 'release_year']]"
      ],
      "id": "ug2k1jAZU8nj",
      "execution_count": 30,
      "outputs": [
        {
          "output_type": "execute_result",
          "data": {
            "text/html": [
              "<div>\n",
              "<style scoped>\n",
              "    .dataframe tbody tr th:only-of-type {\n",
              "        vertical-align: middle;\n",
              "    }\n",
              "\n",
              "    .dataframe tbody tr th {\n",
              "        vertical-align: top;\n",
              "    }\n",
              "\n",
              "    .dataframe thead th {\n",
              "        text-align: right;\n",
              "    }\n",
              "</style>\n",
              "<table border=\"1\" class=\"dataframe\">\n",
              "  <thead>\n",
              "    <tr style=\"text-align: right;\">\n",
              "      <th></th>\n",
              "      <th>original_title</th>\n",
              "      <th>genres</th>\n",
              "      <th>release_year</th>\n",
              "    </tr>\n",
              "  </thead>\n",
              "  <tbody>\n",
              "    <tr>\n",
              "      <th>3894</th>\n",
              "      <td>The Story of Film: An Odyssey</td>\n",
              "      <td>Documentary</td>\n",
              "      <td>2011</td>\n",
              "    </tr>\n",
              "  </tbody>\n",
              "</table>\n",
              "</div>"
            ],
            "text/plain": [
              "                     original_title       genres  release_year\n",
              "3894  The Story of Film: An Odyssey  Documentary          2011"
            ]
          },
          "metadata": {
            "tags": []
          },
          "execution_count": 30
        }
      ]
    },
    {
      "cell_type": "code",
      "metadata": {
        "id": "closing-undergraduate"
      },
      "source": [
        "# 3. Какой фильм самый короткий/длинный по продолжительности? (❤︎)"
      ],
      "id": "closing-undergraduate",
      "execution_count": null,
      "outputs": []
    },
    {
      "cell_type": "code",
      "metadata": {
        "colab": {
          "base_uri": "https://localhost:8080/",
          "height": 77
        },
        "id": "wj1gwgmlU9SQ",
        "outputId": "9aac9088-0afe-475b-ba02-6a11d805b672"
      },
      "source": [
        "df[df['runtime'] == df['runtime'].max()][['original_title', 'runtime']]"
      ],
      "id": "wj1gwgmlU9SQ",
      "execution_count": 34,
      "outputs": [
        {
          "output_type": "execute_result",
          "data": {
            "text/html": [
              "<div>\n",
              "<style scoped>\n",
              "    .dataframe tbody tr th:only-of-type {\n",
              "        vertical-align: middle;\n",
              "    }\n",
              "\n",
              "    .dataframe tbody tr th {\n",
              "        vertical-align: top;\n",
              "    }\n",
              "\n",
              "    .dataframe thead th {\n",
              "        text-align: right;\n",
              "    }\n",
              "</style>\n",
              "<table border=\"1\" class=\"dataframe\">\n",
              "  <thead>\n",
              "    <tr style=\"text-align: right;\">\n",
              "      <th></th>\n",
              "      <th>original_title</th>\n",
              "      <th>runtime</th>\n",
              "    </tr>\n",
              "  </thead>\n",
              "  <tbody>\n",
              "    <tr>\n",
              "      <th>3894</th>\n",
              "      <td>The Story of Film: An Odyssey</td>\n",
              "      <td>900</td>\n",
              "    </tr>\n",
              "  </tbody>\n",
              "</table>\n",
              "</div>"
            ],
            "text/plain": [
              "                     original_title  runtime\n",
              "3894  The Story of Film: An Odyssey      900"
            ]
          },
          "metadata": {
            "tags": []
          },
          "execution_count": 34
        }
      ]
    },
    {
      "cell_type": "code",
      "metadata": {
        "colab": {
          "base_uri": "https://localhost:8080/",
          "height": 965
        },
        "id": "hlth8zOZaIfp",
        "outputId": "dbcf81e4-8104-40f3-9f48-40d3aca4a633"
      },
      "source": [
        "df[df['runtime'] == df['runtime'].min()][['original_title', 'runtime']]"
      ],
      "id": "hlth8zOZaIfp",
      "execution_count": 35,
      "outputs": [
        {
          "output_type": "execute_result",
          "data": {
            "text/html": [
              "<div>\n",
              "<style scoped>\n",
              "    .dataframe tbody tr th:only-of-type {\n",
              "        vertical-align: middle;\n",
              "    }\n",
              "\n",
              "    .dataframe tbody tr th {\n",
              "        vertical-align: top;\n",
              "    }\n",
              "\n",
              "    .dataframe thead th {\n",
              "        text-align: right;\n",
              "    }\n",
              "</style>\n",
              "<table border=\"1\" class=\"dataframe\">\n",
              "  <thead>\n",
              "    <tr style=\"text-align: right;\">\n",
              "      <th></th>\n",
              "      <th>original_title</th>\n",
              "      <th>runtime</th>\n",
              "    </tr>\n",
              "  </thead>\n",
              "  <tbody>\n",
              "    <tr>\n",
              "      <th>92</th>\n",
              "      <td>Mythica: The Necromancer</td>\n",
              "      <td>0</td>\n",
              "    </tr>\n",
              "    <tr>\n",
              "      <th>334</th>\n",
              "      <td>Ronaldo</td>\n",
              "      <td>0</td>\n",
              "    </tr>\n",
              "    <tr>\n",
              "      <th>410</th>\n",
              "      <td>Anarchy Parlor</td>\n",
              "      <td>0</td>\n",
              "    </tr>\n",
              "    <tr>\n",
              "      <th>445</th>\n",
              "      <td>The Exorcism of Molly Hartley</td>\n",
              "      <td>0</td>\n",
              "    </tr>\n",
              "    <tr>\n",
              "      <th>486</th>\n",
              "      <td>If There Be Thorns</td>\n",
              "      <td>0</td>\n",
              "    </tr>\n",
              "    <tr>\n",
              "      <th>595</th>\n",
              "      <td>Deep Dark</td>\n",
              "      <td>0</td>\n",
              "    </tr>\n",
              "    <tr>\n",
              "      <th>616</th>\n",
              "      <td>The Outfield</td>\n",
              "      <td>0</td>\n",
              "    </tr>\n",
              "    <tr>\n",
              "      <th>1241</th>\n",
              "      <td>Dance-Off</td>\n",
              "      <td>0</td>\n",
              "    </tr>\n",
              "    <tr>\n",
              "      <th>1289</th>\n",
              "      <td>Treehouse</td>\n",
              "      <td>0</td>\n",
              "    </tr>\n",
              "    <tr>\n",
              "      <th>1293</th>\n",
              "      <td>Tim Maia</td>\n",
              "      <td>0</td>\n",
              "    </tr>\n",
              "    <tr>\n",
              "      <th>1849</th>\n",
              "      <td>Spectacular!</td>\n",
              "      <td>0</td>\n",
              "    </tr>\n",
              "    <tr>\n",
              "      <th>2315</th>\n",
              "      <td>Listen to Your Heart</td>\n",
              "      <td>0</td>\n",
              "    </tr>\n",
              "    <tr>\n",
              "      <th>2370</th>\n",
              "      <td>Freshman Father</td>\n",
              "      <td>0</td>\n",
              "    </tr>\n",
              "    <tr>\n",
              "      <th>3329</th>\n",
              "      <td>Grande, grosso e Verdone</td>\n",
              "      <td>0</td>\n",
              "    </tr>\n",
              "    <tr>\n",
              "      <th>3794</th>\n",
              "      <td>Toi, moi, les autres</td>\n",
              "      <td>0</td>\n",
              "    </tr>\n",
              "    <tr>\n",
              "      <th>3857</th>\n",
              "      <td>Cell 213</td>\n",
              "      <td>0</td>\n",
              "    </tr>\n",
              "    <tr>\n",
              "      <th>3884</th>\n",
              "      <td>eCupid</td>\n",
              "      <td>0</td>\n",
              "    </tr>\n",
              "    <tr>\n",
              "      <th>4063</th>\n",
              "      <td>Madea's Family Reunion</td>\n",
              "      <td>0</td>\n",
              "    </tr>\n",
              "    <tr>\n",
              "      <th>4138</th>\n",
              "      <td>A Time for Dancing</td>\n",
              "      <td>0</td>\n",
              "    </tr>\n",
              "    <tr>\n",
              "      <th>4829</th>\n",
              "      <td>Rags</td>\n",
              "      <td>0</td>\n",
              "    </tr>\n",
              "    <tr>\n",
              "      <th>4944</th>\n",
              "      <td>How to Fall in Love</td>\n",
              "      <td>0</td>\n",
              "    </tr>\n",
              "    <tr>\n",
              "      <th>5216</th>\n",
              "      <td>Madea's Class Reunion</td>\n",
              "      <td>0</td>\n",
              "    </tr>\n",
              "    <tr>\n",
              "      <th>5695</th>\n",
              "      <td>Skinwalker Ranch</td>\n",
              "      <td>0</td>\n",
              "    </tr>\n",
              "    <tr>\n",
              "      <th>5920</th>\n",
              "      <td>The Food Guide to Love</td>\n",
              "      <td>0</td>\n",
              "    </tr>\n",
              "    <tr>\n",
              "      <th>5938</th>\n",
              "      <td>Go Goa Gone</td>\n",
              "      <td>0</td>\n",
              "    </tr>\n",
              "    <tr>\n",
              "      <th>5992</th>\n",
              "      <td>Amiche da morire</td>\n",
              "      <td>0</td>\n",
              "    </tr>\n",
              "    <tr>\n",
              "      <th>6040</th>\n",
              "      <td>The Vatican Exorcisms</td>\n",
              "      <td>0</td>\n",
              "    </tr>\n",
              "    <tr>\n",
              "      <th>6383</th>\n",
              "      <td>The 12 Dogs of Christmas</td>\n",
              "      <td>0</td>\n",
              "    </tr>\n",
              "    <tr>\n",
              "      <th>6552</th>\n",
              "      <td>Quatre Ã©toiles</td>\n",
              "      <td>0</td>\n",
              "    </tr>\n",
              "    <tr>\n",
              "      <th>6934</th>\n",
              "      <td>Jean-Philippe</td>\n",
              "      <td>0</td>\n",
              "    </tr>\n",
              "    <tr>\n",
              "      <th>8874</th>\n",
              "      <td>Mission Kashmir</td>\n",
              "      <td>0</td>\n",
              "    </tr>\n",
              "  </tbody>\n",
              "</table>\n",
              "</div>"
            ],
            "text/plain": [
              "                     original_title  runtime\n",
              "92         Mythica: The Necromancer        0\n",
              "334                         Ronaldo        0\n",
              "410                  Anarchy Parlor        0\n",
              "445   The Exorcism of Molly Hartley        0\n",
              "486              If There Be Thorns        0\n",
              "595                       Deep Dark        0\n",
              "616                    The Outfield        0\n",
              "1241                      Dance-Off        0\n",
              "1289                      Treehouse        0\n",
              "1293                       Tim Maia        0\n",
              "1849                   Spectacular!        0\n",
              "2315           Listen to Your Heart        0\n",
              "2370                Freshman Father        0\n",
              "3329       Grande, grosso e Verdone        0\n",
              "3794           Toi, moi, les autres        0\n",
              "3857                       Cell 213        0\n",
              "3884                         eCupid        0\n",
              "4063         Madea's Family Reunion        0\n",
              "4138             A Time for Dancing        0\n",
              "4829                           Rags        0\n",
              "4944            How to Fall in Love        0\n",
              "5216          Madea's Class Reunion        0\n",
              "5695               Skinwalker Ranch        0\n",
              "5920         The Food Guide to Love        0\n",
              "5938                    Go Goa Gone        0\n",
              "5992               Amiche da morire        0\n",
              "6040          The Vatican Exorcisms        0\n",
              "6383       The 12 Dogs of Christmas        0\n",
              "6552                Quatre Ã©toiles        0\n",
              "6934                  Jean-Philippe        0\n",
              "8874                Mission Kashmir        0"
            ]
          },
          "metadata": {
            "tags": []
          },
          "execution_count": 35
        }
      ]
    },
    {
      "cell_type": "code",
      "metadata": {
        "id": "czech-association"
      },
      "source": [
        "# 4. Сколько всего киностудий (product_companies)?"
      ],
      "id": "czech-association",
      "execution_count": null,
      "outputs": []
    },
    {
      "cell_type": "code",
      "metadata": {
        "colab": {
          "base_uri": "https://localhost:8080/"
        },
        "id": "2o3j_dA_U91O",
        "outputId": "d1514fd0-3c4b-4b2d-dd14-b0903bbc7a62"
      },
      "source": [
        "companies = df['production_companies'].str.split('|', expand=True).dropna().to_numpy().ravel()\n",
        "companies.shape"
      ],
      "id": "2o3j_dA_U91O",
      "execution_count": 61,
      "outputs": [
        {
          "output_type": "execute_result",
          "data": {
            "text/plain": [
              "(5630,)"
            ]
          },
          "metadata": {
            "tags": []
          },
          "execution_count": 61
        }
      ]
    },
    {
      "cell_type": "code",
      "metadata": {
        "id": "ahead-subsection"
      },
      "source": [
        "# 5. Какое количество фильмов сняла каждая из киностудий?"
      ],
      "id": "ahead-subsection",
      "execution_count": null,
      "outputs": []
    },
    {
      "cell_type": "code",
      "metadata": {
        "colab": {
          "base_uri": "https://localhost:8080/"
        },
        "id": "l0RZ-GbeU-lI",
        "outputId": "cb4619e2-5a53-4b6f-8dca-431a4ff625a5"
      },
      "source": [
        "pd.Series(companies).value_counts()"
      ],
      "id": "l0RZ-GbeU-lI",
      "execution_count": 52,
      "outputs": [
        {
          "output_type": "execute_result",
          "data": {
            "text/plain": [
              "Warner Bros.                              97\n",
              "Universal Pictures                        68\n",
              "Canal+                                    66\n",
              "Twentieth Century Fox Film Corporation    59\n",
              "Paramount Pictures                        56\n",
              "                                          ..\n",
              "Original Voices Inc.                       1\n",
              "Social Capital                             1\n",
              "Apotheosis Media Group                     1\n",
              "Bausan Films                               1\n",
              "Boy of the Year                            1\n",
              "Length: 2518, dtype: int64"
            ]
          },
          "metadata": {
            "tags": []
          },
          "execution_count": 52
        }
      ]
    },
    {
      "cell_type": "code",
      "metadata": {
        "id": "intensive-limit"
      },
      "source": [
        "# 6. Сколько фильмов было снято одной киностудией, двумя, тремя и т.д.?"
      ],
      "id": "intensive-limit",
      "execution_count": null,
      "outputs": []
    },
    {
      "cell_type": "code",
      "metadata": {
        "colab": {
          "base_uri": "https://localhost:8080/"
        },
        "id": "mIJMEW-dU_G8",
        "outputId": "c4fc0ea8-6405-422c-f125-934e70f6995d"
      },
      "source": [
        "df['production_companies'].str.split('|', expand=True).count(axis=1).value_counts()"
      ],
      "id": "mIJMEW-dU_G8",
      "execution_count": 65,
      "outputs": [
        {
          "output_type": "execute_result",
          "data": {
            "text/plain": [
              "1    3440\n",
              "2    2580\n",
              "3    1763\n",
              "5    1126\n",
              "0    1030\n",
              "4     927\n",
              "dtype: int64"
            ]
          },
          "metadata": {
            "tags": []
          },
          "execution_count": 65
        }
      ]
    },
    {
      "cell_type": "code",
      "metadata": {
        "id": "upper-consultation"
      },
      "source": [
        "# 7. Какая средняя оценка у фильмов с вашим любимым актером?"
      ],
      "id": "upper-consultation",
      "execution_count": null,
      "outputs": []
    },
    {
      "cell_type": "code",
      "metadata": {
        "colab": {
          "base_uri": "https://localhost:8080/"
        },
        "id": "M0moS81bgtZH",
        "outputId": "4737122f-c5df-40f1-db68-5b340e8286fb"
      },
      "source": [
        "df[df['cast'].astype(str).str.contains(fav_actor)]['vote_average'].mean()"
      ],
      "id": "M0moS81bgtZH",
      "execution_count": 85,
      "outputs": [
        {
          "output_type": "execute_result",
          "data": {
            "text/plain": [
              "6.605882352941176"
            ]
          },
          "metadata": {
            "tags": []
          },
          "execution_count": 85
        }
      ]
    },
    {
      "cell_type": "code",
      "metadata": {
        "id": "fitted-sentence"
      },
      "source": [
        "# 7.1. Найдите актера, который снимался чаще всего и ответьте на вопрос в каких жанрах? (❤︎)"
      ],
      "id": "fitted-sentence",
      "execution_count": 89,
      "outputs": []
    },
    {
      "cell_type": "code",
      "metadata": {
        "colab": {
          "base_uri": "https://localhost:8080/"
        },
        "id": "u4uKGgROVAD8",
        "outputId": "0ff3bb13-3d89-47a6-e3ce-50a7d90441fa"
      },
      "source": [
        "actors = df['cast'].str.split('|', expand=True).dropna().to_numpy().ravel()\n",
        "popular_actor = pd.Series(actors).mode()[0]\n",
        "print(popular_actor)\n",
        "index = np.nonzero(np.isin(data['cast'].str.split('|', expand=True).to_numpy(), popular_actor))[0]\n",
        "data.iloc[index]['genres']"
      ],
      "id": "u4uKGgROVAD8",
      "execution_count": 129,
      "outputs": [
        {
          "output_type": "stream",
          "text": [
            "Robert De Niro\n"
          ],
          "name": "stdout"
        },
        {
          "output_type": "execute_result",
          "data": {
            "text/plain": [
              "51                               Comedy\n",
              "53                         Comedy|Drama\n",
              "109               Crime|Action|Thriller\n",
              "494                               Drama\n",
              "572                              Comedy\n",
              "                      ...              \n",
              "10268        Comedy|Crime|Romance|Drama\n",
              "10272                             Drama\n",
              "10507    Adventure|Drama|Action|History\n",
              "10596                       Drama|Crime\n",
              "10762                         Drama|War\n",
              "Name: genres, Length: 72, dtype: object"
            ]
          },
          "metadata": {
            "tags": []
          },
          "execution_count": 129
        }
      ]
    },
    {
      "cell_type": "code",
      "metadata": {
        "id": "elder-premium"
      },
      "source": [
        "# 8. Сборы какой кинокомпании самые высокие за последние 5 лет (с 2010 по 2015)?"
      ],
      "id": "elder-premium",
      "execution_count": null,
      "outputs": []
    },
    {
      "cell_type": "code",
      "metadata": {
        "id": "-9KId2l_VBIH"
      },
      "source": [
        "gap = df[(df['release_year'] >= '2010') & (df['release_year'] <= '2015')]]"
      ],
      "id": "-9KId2l_VBIH",
      "execution_count": null,
      "outputs": []
    },
    {
      "cell_type": "code",
      "metadata": {
        "id": "color-frontier"
      },
      "source": [
        "# 9. Топ-10 режиссеров и актеров с самым высоким в среднем рейтингом фильмов?"
      ],
      "id": "color-frontier",
      "execution_count": null,
      "outputs": []
    },
    {
      "cell_type": "code",
      "metadata": {
        "id": "wh3o6m8aVBfq"
      },
      "source": [
        "directors = df['director'].str.split(\"|\", expand=True).dropna().to_numpy().ravel()"
      ],
      "id": "wh3o6m8aVBfq",
      "execution_count": 48,
      "outputs": []
    },
    {
      "cell_type": "code",
      "metadata": {
        "id": "dirty-letters"
      },
      "source": [
        "# 10. Фильмы в каком жанре в среднем имеют самые высокие оценки? (❤︎)"
      ],
      "id": "dirty-letters",
      "execution_count": 100,
      "outputs": []
    },
    {
      "cell_type": "code",
      "metadata": {
        "id": "qRkeWDqfVCFU"
      },
      "source": [
        "genre = df['genres'].str.split(\"|\", expand=True).dropna().to_numpy().ravel()\n"
      ],
      "id": "qRkeWDqfVCFU",
      "execution_count": 104,
      "outputs": []
    },
    {
      "cell_type": "code",
      "metadata": {
        "colab": {
          "base_uri": "https://localhost:8080/"
        },
        "id": "sevBB8jvkXEg",
        "outputId": "dd89cc1f-b365-4f51-c6d3-242085746610"
      },
      "source": [
        "df[df['genres'].astype(str).str.contains(fav_genre)]['vote_average'].mean()"
      ],
      "id": "sevBB8jvkXEg",
      "execution_count": 105,
      "outputs": [
        {
          "output_type": "execute_result",
          "data": {
            "text/plain": [
              "5.90516741365673"
            ]
          },
          "metadata": {
            "tags": []
          },
          "execution_count": 105
        }
      ]
    },
    {
      "cell_type": "code",
      "metadata": {
        "id": "confused-louisiana"
      },
      "source": [
        "# 11. Топ-10 ключевых слов (keywords)?"
      ],
      "id": "confused-louisiana",
      "execution_count": null,
      "outputs": []
    },
    {
      "cell_type": "code",
      "metadata": {
        "colab": {
          "base_uri": "https://localhost:8080/"
        },
        "id": "BHfEmQfIVChQ",
        "outputId": "686efcd3-2c13-4037-f15f-e8e278abba0c"
      },
      "source": [
        "keywords = df['keywords'].str.split(\"|\", expand=True).dropna().to_numpy().ravel()\n",
        "pd.Series(keywords).value_counts().head(10)"
      ],
      "id": "BHfEmQfIVChQ",
      "execution_count": 126,
      "outputs": [
        {
          "output_type": "execute_result",
          "data": {
            "text/plain": [
              "sex                 258\n",
              "based on novel      243\n",
              "independent film    175\n",
              "murder              157\n",
              "nudity              150\n",
              "female nudity       142\n",
              "new york            132\n",
              "prison              111\n",
              "london              107\n",
              "sport               103\n",
              "dtype: int64"
            ]
          },
          "metadata": {
            "tags": []
          },
          "execution_count": 126
        }
      ]
    },
    {
      "cell_type": "code",
      "metadata": {
        "id": "realistic-application"
      },
      "source": [
        "# 12. Растет ли бюджет фильмов с каждым годом? (постройте график)"
      ],
      "id": "realistic-application",
      "execution_count": null,
      "outputs": []
    },
    {
      "cell_type": "code",
      "metadata": {
        "colab": {
          "base_uri": "https://localhost:8080/",
          "height": 313
        },
        "id": "-zRr5sVGVD6i",
        "outputId": "4468bf17-18dd-4e0f-f124-bd260d920e83"
      },
      "source": [
        "df.groupby('release_year')['budget'].sum().plot(title='Зависимость бюджета от года выхода фильма')"
      ],
      "id": "-zRr5sVGVD6i",
      "execution_count": 69,
      "outputs": [
        {
          "output_type": "execute_result",
          "data": {
            "text/plain": [
              "<matplotlib.axes._subplots.AxesSubplot at 0x7f30163abad0>"
            ]
          },
          "metadata": {
            "tags": []
          },
          "execution_count": 69
        },
        {
          "output_type": "display_data",
          "data": {
            "image/png": "[encoded data removed]",
            "text/plain": [
              "<Figure size 432x288 with 1 Axes>"
            ]
          },
          "metadata": {
            "tags": [],
            "needs_background": "light"
          }
        }
      ]
    },
    {
      "cell_type": "code",
      "metadata": {
        "id": "alien-motion"
      },
      "source": [
        "# 13. Что больше всего влияет на доходы фильмов?"
      ],
      "id": "alien-motion",
      "execution_count": null,
      "outputs": []
    },
    {
      "cell_type": "code",
      "metadata": {
        "id": "uQNEzaMAWjs9"
      },
      "source": [
        ""
      ],
      "id": "uQNEzaMAWjs9",
      "execution_count": null,
      "outputs": []
    },
    {
      "cell_type": "code",
      "metadata": {
        "id": "external-calculator"
      },
      "source": [
        "# 14. Топ-5 самых прибильных и убыточных фильмов (по соотношению бюджета к доходам)"
      ],
      "id": "external-calculator",
      "execution_count": null,
      "outputs": []
    },
    {
      "cell_type": "code",
      "metadata": {
        "id": "q8jgXWHYWkJY"
      },
      "source": [
        ""
      ],
      "id": "q8jgXWHYWkJY",
      "execution_count": null,
      "outputs": []
    },
    {
      "cell_type": "code",
      "metadata": {
        "id": "alleged-enforcement"
      },
      "source": [
        "# 15. Как изменялось количество снимаемых фильмов в жанре \"Drama\" с течением времени? (Постройте график) ❤︎"
      ],
      "id": "alleged-enforcement",
      "execution_count": null,
      "outputs": []
    },
    {
      "cell_type": "code",
      "metadata": {
        "colab": {
          "base_uri": "https://localhost:8080/",
          "height": 298
        },
        "id": "6eJghWtEWkds",
        "outputId": "87443bba-8e72-457b-e409-0b92a8ac4e4a"
      },
      "source": [
        "df[df['genres'].astype(str).str.contains('Drama')]['release_year'].value_counts().plot(title = 'Drama по годам')\n"
      ],
      "id": "6eJghWtEWkds",
      "execution_count": 123,
      "outputs": [
        {
          "output_type": "execute_result",
          "data": {
            "text/plain": [
              "<matplotlib.axes._subplots.AxesSubplot at 0x7f30042c3610>"
            ]
          },
          "metadata": {
            "tags": []
          },
          "execution_count": 123
        },
        {
          "output_type": "display_data",
          "data": {
            "image/png": "[encoded data removed]",
            "text/plain": [
              "<Figure size 432x288 with 1 Axes>"
            ]
          },
          "metadata": {
            "tags": [],
            "needs_background": "light"
          }
        }
      ]
    },
    {
      "cell_type": "code",
      "metadata": {
        "colab": {
          "base_uri": "https://localhost:8080/",
          "height": 298
        },
        "id": "s4RuZdi8pZrX",
        "outputId": "6d699d1d-7158-457d-e964-fa03527ea2c0"
      },
      "source": [
        "df[df['genres'].astype(str).str.contains(fav_genre)]['release_year'].value_counts().plot(title = 'Любимый жанр от года')"
      ],
      "id": "s4RuZdi8pZrX",
      "execution_count": 122,
      "outputs": [
        {
          "output_type": "execute_result",
          "data": {
            "text/plain": [
              "<matplotlib.axes._subplots.AxesSubplot at 0x7f300458e990>"
            ]
          },
          "metadata": {
            "tags": []
          },
          "execution_count": 122
        },
        {
          "output_type": "display_data",
          "data": {
            "image/png": "[encoded data removed]",
            "text/plain": [
              "<Figure size 432x288 with 1 Axes>"
            ]
          },
          "metadata": {
            "tags": [],
            "needs_background": "light"
          }
        }
      ]
    },
    {
      "cell_type": "code",
      "metadata": {
        "id": "funded-small"
      },
      "source": [
        "# 16. Топ-10 актеров, которые снялись в наибольшем количестве фильмов."
      ],
      "id": "funded-small",
      "execution_count": null,
      "outputs": []
    },
    {
      "cell_type": "code",
      "metadata": {
        "colab": {
          "base_uri": "https://localhost:8080/"
        },
        "id": "6kAIIO_bWlC3",
        "outputId": "b7716600-644a-4e9c-af7c-50111f919725"
      },
      "source": [
        "pd.Series(actors).value_counts().head(10)"
      ],
      "id": "6kAIIO_bWlC3",
      "execution_count": 125,
      "outputs": [
        {
          "output_type": "execute_result",
          "data": {
            "text/plain": [
              "Robert De Niro       70\n",
              "Samuel L. Jackson    67\n",
              "Bruce Willis         61\n",
              "Nicolas Cage         61\n",
              "Michael Caine        52\n",
              "Robin Williams       50\n",
              "John Cusack          49\n",
              "John Goodman         48\n",
              "Susan Sarandon       48\n",
              "Morgan Freeman       48\n",
              "dtype: int64"
            ]
          },
          "metadata": {
            "tags": []
          },
          "execution_count": 125
        }
      ]
    },
    {
      "cell_type": "code",
      "metadata": {
        "id": "casual-scoop"
      },
      "source": [
        "# 17. Средний рейтинг фильмов по годам (постройте график)"
      ],
      "id": "casual-scoop",
      "execution_count": null,
      "outputs": []
    },
    {
      "cell_type": "markdown",
      "metadata": {
        "id": "3YSaNSEyspqy"
      },
      "source": [
        ""
      ],
      "id": "3YSaNSEyspqy"
    },
    {
      "cell_type": "code",
      "metadata": {
        "colab": {
          "base_uri": "https://localhost:8080/",
          "height": 313
        },
        "id": "7nWhf39pWlao",
        "outputId": "707831ef-b976-4f19-d052-48255c183dac"
      },
      "source": [
        "df.groupby('release_year')['vote_average'].mean().plot(title='Рейтинг по годам')"
      ],
      "id": "7nWhf39pWlao",
      "execution_count": 84,
      "outputs": [
        {
          "output_type": "execute_result",
          "data": {
            "text/plain": [
              "<matplotlib.axes._subplots.AxesSubplot at 0x7f3003e79d90>"
            ]
          },
          "metadata": {
            "tags": []
          },
          "execution_count": 84
        },
        {
          "output_type": "display_data",
          "data": {
            "image/png": "[encoded data removed]",
            "text/plain": [
              "<Figure size 432x288 with 1 Axes>"
            ]
          },
          "metadata": {
            "tags": [],
            "needs_background": "light"
          }
        }
      ]
    },
    {
      "cell_type": "code",
      "metadata": {
        "id": "frozen-sister"
      },
      "source": [
        "# 18. Постройте график распределения жанров (столько-то процентов это боевики, столько-то комедии и т.п.)"
      ],
      "id": "frozen-sister",
      "execution_count": null,
      "outputs": []
    },
    {
      "cell_type": "code",
      "metadata": {
        "colab": {
          "base_uri": "https://localhost:8080/",
          "height": 298
        },
        "id": "h79dvaodWlvv",
        "outputId": "ecee94e3-ea69-4a1a-8acb-9417fc2f6364"
      },
      "source": [
        "genres = df['genres'].str.split(\"|\", expand=True).dropna().to_numpy().ravel()\n",
        "pd.Series(genres).value_counts().plot(title = 'Жанры')"
      ],
      "id": "h79dvaodWlvv",
      "execution_count": 134,
      "outputs": [
        {
          "output_type": "execute_result",
          "data": {
            "text/plain": [
              "<matplotlib.axes._subplots.AxesSubplot at 0x7f3004082e90>"
            ]
          },
          "metadata": {
            "tags": []
          },
          "execution_count": 134
        },
        {
          "output_type": "display_data",
          "data": {
            "image/png": "[encoded data removed]",
            "text/plain": [
              "<Figure size 432x288 with 1 Axes>"
            ]
          },
          "metadata": {
            "tags": [],
            "needs_background": "light"
          }
        }
      ]
    },
    {
      "cell_type": "code",
      "metadata": {
        "id": "historic-defeat"
      },
      "source": [
        "# 19. Какой режиссер чаще всего снимал одного и того же актера?"
      ],
      "id": "historic-defeat",
      "execution_count": null,
      "outputs": []
    },
    {
      "cell_type": "code",
      "metadata": {
        "id": "MirQj4StWmZt"
      },
      "source": [
        ""
      ],
      "id": "MirQj4StWmZt",
      "execution_count": null,
      "outputs": []
    },
    {
      "cell_type": "code",
      "metadata": {
        "id": "consecutive-selling"
      },
      "source": [
        "# 20. Какая пара жанров чаще всего встречается вместе?"
      ],
      "id": "consecutive-selling",
      "execution_count": null,
      "outputs": []
    },
    {
      "cell_type": "code",
      "metadata": {
        "id": "HaT28B-TWmr7"
      },
      "source": [
        ""
      ],
      "id": "HaT28B-TWmr7",
      "execution_count": null,
      "outputs": []
    },
    {
      "cell_type": "code",
      "metadata": {
        "id": "occasional-hampshire"
      },
      "source": [
        "# 21. Топ-10 ключевых слов с самым высоким рейтингом/бюджетом/доходами фильмов (слово - срейдний рейтинг/бюджет/доходы)"
      ],
      "id": "occasional-hampshire",
      "execution_count": null,
      "outputs": []
    },
    {
      "cell_type": "code",
      "metadata": {
        "id": "4QWEONuLWnI1"
      },
      "source": [
        ""
      ],
      "id": "4QWEONuLWnI1",
      "execution_count": null,
      "outputs": []
    },
    {
      "cell_type": "code",
      "metadata": {
        "id": "early-physiology"
      },
      "source": [
        "# 22. Постройте и визуализируйте граф связей между актерами (как это было в работе АПИ ВК)."
      ],
      "id": "early-physiology",
      "execution_count": null,
      "outputs": []
    },
    {
      "cell_type": "code",
      "metadata": {
        "id": "WPFmTimZWneI"
      },
      "source": [
        ""
      ],
      "id": "WPFmTimZWneI",
      "execution_count": null,
      "outputs": []
    }
  ]
}